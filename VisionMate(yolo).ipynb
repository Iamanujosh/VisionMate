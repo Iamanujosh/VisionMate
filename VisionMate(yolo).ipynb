{
 "cells": [
  {
   "cell_type": "markdown",
   "id": "515f545c",
   "metadata": {},
   "source": [
    "# 1.Install and import dependencies"
   ]
  },
  {
   "cell_type": "markdown",
   "id": "da1f5031",
   "metadata": {},
   "source": [
    "!pip install pyttsx3"
   ]
  },
  {
   "cell_type": "markdown",
   "id": "941bcebd",
   "metadata": {},
   "source": [
    "!pip3 install torch torchvision torchaudio"
   ]
  },
  {
   "cell_type": "markdown",
   "id": "6be5b1c8",
   "metadata": {},
   "source": [
    "import torch\n",
    "x = torch.rand(5, 3)\n",
    "print(x)"
   ]
  },
  {
   "cell_type": "markdown",
   "id": "2dc1e479",
   "metadata": {},
   "source": [
    "!git clone https://github.com/ultralytics/yolov5"
   ]
  },
  {
   "cell_type": "markdown",
   "id": "61ab9d2a",
   "metadata": {},
   "source": [
    "!cd yolov5 & pip install -r requirements.txt"
   ]
  },
  {
   "cell_type": "code",
   "execution_count": 2,
   "id": "1f5ff101",
   "metadata": {},
   "outputs": [],
   "source": [
    "import torch\n",
    "%matplotlib inline \n",
    "from matplotlib import pyplot as plt\n",
    "import numpy as np\n",
    "import cv2\n",
    "import pyttsx3"
   ]
  },
  {
   "cell_type": "markdown",
   "id": "91c0a7a6",
   "metadata": {},
   "source": [
    "# 2.Load Model"
   ]
  },
  {
   "cell_type": "markdown",
   "id": "18f9277c",
   "metadata": {},
   "source": [
    "Loading yolov5s->s for small model from pytorch with following syntax"
   ]
  },
  {
   "cell_type": "code",
   "execution_count": 3,
   "id": "750c6f74",
   "metadata": {},
   "outputs": [
    {
     "name": "stderr",
     "output_type": "stream",
     "text": [
      "Using cache found in C:\\Users\\Anushka/.cache\\torch\\hub\\ultralytics_yolov5_master\n",
      "YOLOv5  2024-1-26 Python-3.11.5 torch-2.1.2+cpu CPU\n",
      "\n",
      "Fusing layers... \n",
      "YOLOv5s summary: 213 layers, 7225885 parameters, 0 gradients, 16.4 GFLOPs\n",
      "Adding AutoShape... \n"
     ]
    }
   ],
   "source": [
    "model=torch.hub.load('ultralytics/yolov5','yolov5s')"
   ]
  },
  {
   "cell_type": "code",
   "execution_count": null,
   "id": "0eb6f96e",
   "metadata": {},
   "outputs": [],
   "source": []
  },
  {
   "cell_type": "markdown",
   "id": "6bfcf1f7",
   "metadata": {},
   "source": [
    "# 3.Make detection"
   ]
  },
  {
   "cell_type": "markdown",
   "id": "6c8b85a0",
   "metadata": {},
   "source": [
    "img='https://raw.githubusercontent.com/ultralytics/yolov5/master/data/images/zidane.jpg'"
   ]
  },
  {
   "cell_type": "markdown",
   "id": "15926e00",
   "metadata": {},
   "source": [
    "In another cell passing the image to tha model and using result then printing it"
   ]
  },
  {
   "cell_type": "markdown",
   "id": "92250f44",
   "metadata": {},
   "source": [
    "results=model(img)\n",
    "#names = [model.module.names[i] for i in results.xyxy[0,:,4].tolist()]\n",
    "#print(names)\n",
    "names = [model.names[int(obj[5])] for obj in results.xyxy[0]]\n",
    "print(names)\n",
    "\n"
   ]
  },
  {
   "cell_type": "markdown",
   "id": "903acb60",
   "metadata": {},
   "source": [
    "# 4.Real time detection"
   ]
  },
  {
   "cell_type": "code",
   "execution_count": 4,
   "id": "4520cca0",
   "metadata": {
    "scrolled": true
   },
   "outputs": [],
   "source": [
    "cap = cv2.VideoCapture(0)\n",
    "engine = pyttsx3.init()\n",
    "# Set properties (optional)\n",
    "engine.setProperty('rate', 150)  # Speed of speech (words per minute)\n",
    "\n",
    "while cap.isOpened():\n",
    "    ret, frame = cap.read()\n",
    "    \n",
    "    # Make detections \n",
    "    results = model(frame)\n",
    "    cv2.imshow('YOLO', np.squeeze(results.render()))\n",
    "    names = [model.names[int(obj[5])] for obj in results.xyxy[0]]\n",
    "    \n",
    "    # Convert detected object names to a text string\n",
    "    #text_to_speak = ', '.join(names)\n",
    "    \n",
    "    # Speak the text\n",
    "    engine.say(names)\n",
    "    engine.runAndWait()\n",
    "    \n",
    "    if cv2.waitKey(10) & 0xFF == ord('q'):\n",
    "        break\n",
    "cap.release()\n",
    "cv2.destroyAllWindows()\n"
   ]
  },
  {
   "cell_type": "code",
   "execution_count": null,
   "id": "d4c3ecc6",
   "metadata": {},
   "outputs": [],
   "source": []
  }
 ],
 "metadata": {
  "kernelspec": {
   "display_name": "Python 3 (ipykernel)",
   "language": "python",
   "name": "python3"
  },
  "language_info": {
   "codemirror_mode": {
    "name": "ipython",
    "version": 3
   },
   "file_extension": ".py",
   "mimetype": "text/x-python",
   "name": "python",
   "nbconvert_exporter": "python",
   "pygments_lexer": "ipython3",
   "version": "3.11.5"
  }
 },
 "nbformat": 4,
 "nbformat_minor": 5
}
